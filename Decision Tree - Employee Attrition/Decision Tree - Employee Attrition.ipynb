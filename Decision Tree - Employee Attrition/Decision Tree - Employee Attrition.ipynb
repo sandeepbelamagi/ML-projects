{
 "cells": [
  {
   "cell_type": "code",
   "execution_count": 1,
   "metadata": {},
   "outputs": [],
   "source": [
    "import pandas as pd\n",
    "import numpy as np\n",
    "import datetime as dt\n",
    "from dateutil import parser\n",
    "\n",
    "import seaborn as sns\n",
    "import matplotlib.pyplot as plt\n",
    "\n",
    "from sklearn.svm import SVC\n",
    "from sklearn import tree\n",
    "\n",
    "from sklearn.metrics import accuracy_score \n",
    "from sklearn.metrics import confusion_matrix as cm"
   ]
  },
  {
   "cell_type": "markdown",
   "metadata": {},
   "source": [
    "## Data Exploration"
   ]
  },
  {
   "cell_type": "code",
   "execution_count": 2,
   "metadata": {},
   "outputs": [],
   "source": [
    "# Loads data\n",
    "dataset = pd.read_csv('MFG10YearTerminationData.csv')"
   ]
  },
  {
   "cell_type": "code",
   "execution_count": 3,
   "metadata": {},
   "outputs": [
    {
     "data": {
      "text/plain": [
       "(49653, 18)"
      ]
     },
     "execution_count": 3,
     "metadata": {},
     "output_type": "execute_result"
    }
   ],
   "source": [
    "# Checks size of dataset\n",
    "dataset.shape"
   ]
  },
  {
   "cell_type": "code",
   "execution_count": 4,
   "metadata": {},
   "outputs": [
    {
     "data": {
      "text/plain": [
       "EmployeeID              int64\n",
       "recorddate_key         object\n",
       "birthdate_key          object\n",
       "orighiredate_key       object\n",
       "terminationdate_key    object\n",
       "age                     int64\n",
       "length_of_service       int64\n",
       "city_name              object\n",
       "department_name        object\n",
       "job_title              object\n",
       "store_name              int64\n",
       "gender_short           object\n",
       "gender_full            object\n",
       "termreason_desc        object\n",
       "termtype_desc          object\n",
       "STATUS_YEAR             int64\n",
       "STATUS                 object\n",
       "BUSINESS_UNIT          object\n",
       "dtype: object"
      ]
     },
     "execution_count": 4,
     "metadata": {},
     "output_type": "execute_result"
    }
   ],
   "source": [
    "# Checks 18 columns names and types \n",
    "dataset.dtypes"
   ]
  },
  {
   "cell_type": "code",
   "execution_count": 5,
   "metadata": {},
   "outputs": [
    {
     "name": "stdout",
     "output_type": "stream",
     "text": [
      "Column Name: city_name\n",
      "Values =>\n",
      "['Vancouver' 'Terrace' 'Nanaimo' 'Nelson' 'Kelowna' 'Victoria' 'Kamloops'\n",
      " 'Fort St John' 'Surrey' 'Vernon' 'Quesnel' 'Chilliwack' 'Dawson Creek'\n",
      " 'Squamish' 'New Westminster' 'Port Coquitlam' 'Cortes Island' 'Burnaby'\n",
      " 'Bella Bella' 'Cranbrook' 'Williams Lake' 'Trail' 'Prince George'\n",
      " 'Richmond' 'Grand Forks' 'West Vancouver' 'Abbotsford' 'Aldergrove'\n",
      " 'Langley' 'North Vancouver' 'White Rock' 'New Westminister' 'Fort Nelson'\n",
      " 'Haney' 'Valemount' 'Ocean Falls' 'Princeton' 'Dease Lake' 'Pitt Meadows'\n",
      " 'Blue River']\n",
      "\n",
      "\n",
      "Column Name: department_name\n",
      "Values =>\n",
      "['Executive' 'Store Management' 'Meats' 'Recruitment' 'Training'\n",
      " 'Labor Relations' 'HR Technology' 'Employee Records' 'Compensation'\n",
      " 'Legal' 'Produce' 'Accounts Receiveable' 'Bakery'\n",
      " 'Information Technology' 'Accounts Payable' 'Audit' 'Accounting'\n",
      " 'Investment' 'Dairy' 'Processed Foods' 'Customer Service']\n",
      "\n",
      "\n",
      "Column Name: job_title\n",
      "Values =>\n",
      "['CEO' 'VP Stores' 'Legal Counsel' 'VP Human Resources' 'VP Finance'\n",
      " 'Exec Assistant, VP Stores' 'Exec Assistant, Legal Counsel'\n",
      " 'CHief Information Officer' 'Store Manager' 'Meats Manager'\n",
      " 'Exec Assistant, Human Resources' 'Exec Assistant, Finance'\n",
      " 'Director, Recruitment' 'Director, Training' 'Director, Labor Relations'\n",
      " 'Director, HR Technology' 'Director, Employee Records'\n",
      " 'Director, Compensation' 'Corporate Lawyer' 'Produce Manager'\n",
      " 'Director, Accounts Receivable' 'Bakery Manager' 'Systems Analyst'\n",
      " 'Director, Accounts Payable' 'Director, Audit' 'Director, Accounting'\n",
      " 'Director, Investments' 'Dairy Person' 'Recruiter'\n",
      " 'Processed Foods Manager' 'Customer Service Manager' 'Trainer'\n",
      " 'Meat Cutter' 'Labor Relations Analyst' 'Dairy Manager' 'HRIS Analyst'\n",
      " 'Benefits Admin' 'Compensation Analyst' 'Accounts Receiveable Clerk'\n",
      " 'Accounts Payable Clerk' 'Baker' 'Auditor' 'Accounting Clerk'\n",
      " 'Investment Analyst' 'Produce Clerk' 'Shelf Stocker' 'Cashier']\n",
      "\n",
      "\n",
      "Column Name: gender_short\n",
      "Values =>\n",
      "['M' 'F']\n",
      "\n",
      "\n",
      "Column Name: gender_full\n",
      "Values =>\n",
      "['Male' 'Female']\n",
      "\n",
      "\n",
      "Column Name: termreason_desc\n",
      "Values =>\n",
      "['Not Applicable' 'Retirement' 'Resignaton' 'Layoff']\n",
      "\n",
      "\n",
      "Column Name: termtype_desc\n",
      "Values =>\n",
      "['Not Applicable' 'Voluntary' 'Involuntary']\n",
      "\n",
      "\n",
      "Column Name: STATUS\n",
      "Values =>\n",
      "['ACTIVE' 'TERMINATED']\n",
      "\n",
      "\n",
      "Column Name: BUSINESS_UNIT\n",
      "Values =>\n",
      "['HEADOFFICE' 'STORES']\n",
      "\n",
      "\n"
     ]
    }
   ],
   "source": [
    "# Checks categorical values\n",
    "categoricalValues = dataset.drop([\"recorddate_key\", \"birthdate_key\", \"orighiredate_key\", \"terminationdate_key\"], axis=1).select_dtypes(include=['object'])\n",
    "\n",
    "for col in categoricalValues:\n",
    "    print(\"Column Name: \" + col + \"\\nValues =>\")\n",
    "    print(categoricalValues[col].unique())\n",
    "    print(\"\\n\")"
   ]
  },
  {
   "cell_type": "code",
   "execution_count": 6,
   "metadata": {},
   "outputs": [
    {
     "data": {
      "text/html": [
       "<div>\n",
       "<style scoped>\n",
       "    .dataframe tbody tr th:only-of-type {\n",
       "        vertical-align: middle;\n",
       "    }\n",
       "\n",
       "    .dataframe tbody tr th {\n",
       "        vertical-align: top;\n",
       "    }\n",
       "\n",
       "    .dataframe thead th {\n",
       "        text-align: right;\n",
       "    }\n",
       "</style>\n",
       "<table border=\"1\" class=\"dataframe\">\n",
       "  <thead>\n",
       "    <tr style=\"text-align: right;\">\n",
       "      <th></th>\n",
       "      <th>EmployeeID</th>\n",
       "      <th>recorddate_key</th>\n",
       "      <th>birthdate_key</th>\n",
       "      <th>orighiredate_key</th>\n",
       "      <th>terminationdate_key</th>\n",
       "      <th>age</th>\n",
       "      <th>length_of_service</th>\n",
       "      <th>city_name</th>\n",
       "      <th>department_name</th>\n",
       "      <th>job_title</th>\n",
       "      <th>store_name</th>\n",
       "      <th>gender_short</th>\n",
       "      <th>gender_full</th>\n",
       "      <th>termreason_desc</th>\n",
       "      <th>termtype_desc</th>\n",
       "      <th>STATUS_YEAR</th>\n",
       "      <th>STATUS</th>\n",
       "      <th>BUSINESS_UNIT</th>\n",
       "    </tr>\n",
       "  </thead>\n",
       "  <tbody>\n",
       "    <tr>\n",
       "      <th>0</th>\n",
       "      <td>1318</td>\n",
       "      <td>12/31/2006 0:00</td>\n",
       "      <td>1/3/1954</td>\n",
       "      <td>8/28/1989</td>\n",
       "      <td>1/1/1900</td>\n",
       "      <td>52</td>\n",
       "      <td>17</td>\n",
       "      <td>Vancouver</td>\n",
       "      <td>Executive</td>\n",
       "      <td>CEO</td>\n",
       "      <td>35</td>\n",
       "      <td>M</td>\n",
       "      <td>Male</td>\n",
       "      <td>Not Applicable</td>\n",
       "      <td>Not Applicable</td>\n",
       "      <td>2006</td>\n",
       "      <td>ACTIVE</td>\n",
       "      <td>HEADOFFICE</td>\n",
       "    </tr>\n",
       "    <tr>\n",
       "      <th>1</th>\n",
       "      <td>1318</td>\n",
       "      <td>12/31/2007 0:00</td>\n",
       "      <td>1/3/1954</td>\n",
       "      <td>8/28/1989</td>\n",
       "      <td>1/1/1900</td>\n",
       "      <td>53</td>\n",
       "      <td>18</td>\n",
       "      <td>Vancouver</td>\n",
       "      <td>Executive</td>\n",
       "      <td>CEO</td>\n",
       "      <td>35</td>\n",
       "      <td>M</td>\n",
       "      <td>Male</td>\n",
       "      <td>Not Applicable</td>\n",
       "      <td>Not Applicable</td>\n",
       "      <td>2007</td>\n",
       "      <td>ACTIVE</td>\n",
       "      <td>HEADOFFICE</td>\n",
       "    </tr>\n",
       "    <tr>\n",
       "      <th>2</th>\n",
       "      <td>1318</td>\n",
       "      <td>12/31/2008 0:00</td>\n",
       "      <td>1/3/1954</td>\n",
       "      <td>8/28/1989</td>\n",
       "      <td>1/1/1900</td>\n",
       "      <td>54</td>\n",
       "      <td>19</td>\n",
       "      <td>Vancouver</td>\n",
       "      <td>Executive</td>\n",
       "      <td>CEO</td>\n",
       "      <td>35</td>\n",
       "      <td>M</td>\n",
       "      <td>Male</td>\n",
       "      <td>Not Applicable</td>\n",
       "      <td>Not Applicable</td>\n",
       "      <td>2008</td>\n",
       "      <td>ACTIVE</td>\n",
       "      <td>HEADOFFICE</td>\n",
       "    </tr>\n",
       "    <tr>\n",
       "      <th>3</th>\n",
       "      <td>1318</td>\n",
       "      <td>12/31/2009 0:00</td>\n",
       "      <td>1/3/1954</td>\n",
       "      <td>8/28/1989</td>\n",
       "      <td>1/1/1900</td>\n",
       "      <td>55</td>\n",
       "      <td>20</td>\n",
       "      <td>Vancouver</td>\n",
       "      <td>Executive</td>\n",
       "      <td>CEO</td>\n",
       "      <td>35</td>\n",
       "      <td>M</td>\n",
       "      <td>Male</td>\n",
       "      <td>Not Applicable</td>\n",
       "      <td>Not Applicable</td>\n",
       "      <td>2009</td>\n",
       "      <td>ACTIVE</td>\n",
       "      <td>HEADOFFICE</td>\n",
       "    </tr>\n",
       "    <tr>\n",
       "      <th>4</th>\n",
       "      <td>1318</td>\n",
       "      <td>12/31/2010 0:00</td>\n",
       "      <td>1/3/1954</td>\n",
       "      <td>8/28/1989</td>\n",
       "      <td>1/1/1900</td>\n",
       "      <td>56</td>\n",
       "      <td>21</td>\n",
       "      <td>Vancouver</td>\n",
       "      <td>Executive</td>\n",
       "      <td>CEO</td>\n",
       "      <td>35</td>\n",
       "      <td>M</td>\n",
       "      <td>Male</td>\n",
       "      <td>Not Applicable</td>\n",
       "      <td>Not Applicable</td>\n",
       "      <td>2010</td>\n",
       "      <td>ACTIVE</td>\n",
       "      <td>HEADOFFICE</td>\n",
       "    </tr>\n",
       "  </tbody>\n",
       "</table>\n",
       "</div>"
      ],
      "text/plain": [
       "   EmployeeID   recorddate_key birthdate_key orighiredate_key  \\\n",
       "0        1318  12/31/2006 0:00      1/3/1954        8/28/1989   \n",
       "1        1318  12/31/2007 0:00      1/3/1954        8/28/1989   \n",
       "2        1318  12/31/2008 0:00      1/3/1954        8/28/1989   \n",
       "3        1318  12/31/2009 0:00      1/3/1954        8/28/1989   \n",
       "4        1318  12/31/2010 0:00      1/3/1954        8/28/1989   \n",
       "\n",
       "  terminationdate_key  age  length_of_service  city_name department_name  \\\n",
       "0            1/1/1900   52                 17  Vancouver       Executive   \n",
       "1            1/1/1900   53                 18  Vancouver       Executive   \n",
       "2            1/1/1900   54                 19  Vancouver       Executive   \n",
       "3            1/1/1900   55                 20  Vancouver       Executive   \n",
       "4            1/1/1900   56                 21  Vancouver       Executive   \n",
       "\n",
       "  job_title  store_name gender_short gender_full termreason_desc  \\\n",
       "0       CEO          35            M        Male  Not Applicable   \n",
       "1       CEO          35            M        Male  Not Applicable   \n",
       "2       CEO          35            M        Male  Not Applicable   \n",
       "3       CEO          35            M        Male  Not Applicable   \n",
       "4       CEO          35            M        Male  Not Applicable   \n",
       "\n",
       "    termtype_desc  STATUS_YEAR  STATUS BUSINESS_UNIT  \n",
       "0  Not Applicable         2006  ACTIVE    HEADOFFICE  \n",
       "1  Not Applicable         2007  ACTIVE    HEADOFFICE  \n",
       "2  Not Applicable         2008  ACTIVE    HEADOFFICE  \n",
       "3  Not Applicable         2009  ACTIVE    HEADOFFICE  \n",
       "4  Not Applicable         2010  ACTIVE    HEADOFFICE  "
      ]
     },
     "execution_count": 6,
     "metadata": {},
     "output_type": "execute_result"
    }
   ],
   "source": [
    "dataset.head()"
   ]
  },
  {
   "cell_type": "code",
   "execution_count": 7,
   "metadata": {},
   "outputs": [
    {
     "data": {
      "text/html": [
       "<div>\n",
       "<style scoped>\n",
       "    .dataframe tbody tr th:only-of-type {\n",
       "        vertical-align: middle;\n",
       "    }\n",
       "\n",
       "    .dataframe tbody tr th {\n",
       "        vertical-align: top;\n",
       "    }\n",
       "\n",
       "    .dataframe thead th {\n",
       "        text-align: right;\n",
       "    }\n",
       "</style>\n",
       "<table border=\"1\" class=\"dataframe\">\n",
       "  <thead>\n",
       "    <tr style=\"text-align: right;\">\n",
       "      <th></th>\n",
       "      <th>EmployeeID</th>\n",
       "      <th>recorddate_key</th>\n",
       "      <th>birthdate_key</th>\n",
       "      <th>orighiredate_key</th>\n",
       "      <th>terminationdate_key</th>\n",
       "      <th>age</th>\n",
       "      <th>length_of_service</th>\n",
       "      <th>city_name</th>\n",
       "      <th>department_name</th>\n",
       "      <th>job_title</th>\n",
       "      <th>store_name</th>\n",
       "      <th>gender_short</th>\n",
       "      <th>gender_full</th>\n",
       "      <th>termreason_desc</th>\n",
       "      <th>termtype_desc</th>\n",
       "      <th>STATUS_YEAR</th>\n",
       "      <th>STATUS</th>\n",
       "      <th>BUSINESS_UNIT</th>\n",
       "    </tr>\n",
       "  </thead>\n",
       "  <tbody>\n",
       "    <tr>\n",
       "      <th>0</th>\n",
       "      <td>1318</td>\n",
       "      <td>12/31/2006 0:00</td>\n",
       "      <td>1/3/1954</td>\n",
       "      <td>8/28/1989</td>\n",
       "      <td>1/1/1900</td>\n",
       "      <td>52</td>\n",
       "      <td>17</td>\n",
       "      <td>Vancouver</td>\n",
       "      <td>Executive</td>\n",
       "      <td>CEO</td>\n",
       "      <td>35</td>\n",
       "      <td>M</td>\n",
       "      <td>Male</td>\n",
       "      <td>Not Applicable</td>\n",
       "      <td>Not Applicable</td>\n",
       "      <td>2006</td>\n",
       "      <td>ACTIVE</td>\n",
       "      <td>HEADOFFICE</td>\n",
       "    </tr>\n",
       "    <tr>\n",
       "      <th>1</th>\n",
       "      <td>1318</td>\n",
       "      <td>12/31/2007 0:00</td>\n",
       "      <td>1/3/1954</td>\n",
       "      <td>8/28/1989</td>\n",
       "      <td>1/1/1900</td>\n",
       "      <td>53</td>\n",
       "      <td>18</td>\n",
       "      <td>Vancouver</td>\n",
       "      <td>Executive</td>\n",
       "      <td>CEO</td>\n",
       "      <td>35</td>\n",
       "      <td>M</td>\n",
       "      <td>Male</td>\n",
       "      <td>Not Applicable</td>\n",
       "      <td>Not Applicable</td>\n",
       "      <td>2007</td>\n",
       "      <td>ACTIVE</td>\n",
       "      <td>HEADOFFICE</td>\n",
       "    </tr>\n",
       "    <tr>\n",
       "      <th>2</th>\n",
       "      <td>1318</td>\n",
       "      <td>12/31/2008 0:00</td>\n",
       "      <td>1/3/1954</td>\n",
       "      <td>8/28/1989</td>\n",
       "      <td>1/1/1900</td>\n",
       "      <td>54</td>\n",
       "      <td>19</td>\n",
       "      <td>Vancouver</td>\n",
       "      <td>Executive</td>\n",
       "      <td>CEO</td>\n",
       "      <td>35</td>\n",
       "      <td>M</td>\n",
       "      <td>Male</td>\n",
       "      <td>Not Applicable</td>\n",
       "      <td>Not Applicable</td>\n",
       "      <td>2008</td>\n",
       "      <td>ACTIVE</td>\n",
       "      <td>HEADOFFICE</td>\n",
       "    </tr>\n",
       "    <tr>\n",
       "      <th>3</th>\n",
       "      <td>1318</td>\n",
       "      <td>12/31/2009 0:00</td>\n",
       "      <td>1/3/1954</td>\n",
       "      <td>8/28/1989</td>\n",
       "      <td>1/1/1900</td>\n",
       "      <td>55</td>\n",
       "      <td>20</td>\n",
       "      <td>Vancouver</td>\n",
       "      <td>Executive</td>\n",
       "      <td>CEO</td>\n",
       "      <td>35</td>\n",
       "      <td>M</td>\n",
       "      <td>Male</td>\n",
       "      <td>Not Applicable</td>\n",
       "      <td>Not Applicable</td>\n",
       "      <td>2009</td>\n",
       "      <td>ACTIVE</td>\n",
       "      <td>HEADOFFICE</td>\n",
       "    </tr>\n",
       "    <tr>\n",
       "      <th>4</th>\n",
       "      <td>1318</td>\n",
       "      <td>12/31/2010 0:00</td>\n",
       "      <td>1/3/1954</td>\n",
       "      <td>8/28/1989</td>\n",
       "      <td>1/1/1900</td>\n",
       "      <td>56</td>\n",
       "      <td>21</td>\n",
       "      <td>Vancouver</td>\n",
       "      <td>Executive</td>\n",
       "      <td>CEO</td>\n",
       "      <td>35</td>\n",
       "      <td>M</td>\n",
       "      <td>Male</td>\n",
       "      <td>Not Applicable</td>\n",
       "      <td>Not Applicable</td>\n",
       "      <td>2010</td>\n",
       "      <td>ACTIVE</td>\n",
       "      <td>HEADOFFICE</td>\n",
       "    </tr>\n",
       "    <tr>\n",
       "      <th>5</th>\n",
       "      <td>1318</td>\n",
       "      <td>12/31/2011 0:00</td>\n",
       "      <td>1/3/1954</td>\n",
       "      <td>8/28/1989</td>\n",
       "      <td>1/1/1900</td>\n",
       "      <td>57</td>\n",
       "      <td>22</td>\n",
       "      <td>Vancouver</td>\n",
       "      <td>Executive</td>\n",
       "      <td>CEO</td>\n",
       "      <td>35</td>\n",
       "      <td>M</td>\n",
       "      <td>Male</td>\n",
       "      <td>Not Applicable</td>\n",
       "      <td>Not Applicable</td>\n",
       "      <td>2011</td>\n",
       "      <td>ACTIVE</td>\n",
       "      <td>HEADOFFICE</td>\n",
       "    </tr>\n",
       "    <tr>\n",
       "      <th>6</th>\n",
       "      <td>1318</td>\n",
       "      <td>12/31/2012 0:00</td>\n",
       "      <td>1/3/1954</td>\n",
       "      <td>8/28/1989</td>\n",
       "      <td>1/1/1900</td>\n",
       "      <td>58</td>\n",
       "      <td>23</td>\n",
       "      <td>Vancouver</td>\n",
       "      <td>Executive</td>\n",
       "      <td>CEO</td>\n",
       "      <td>35</td>\n",
       "      <td>M</td>\n",
       "      <td>Male</td>\n",
       "      <td>Not Applicable</td>\n",
       "      <td>Not Applicable</td>\n",
       "      <td>2012</td>\n",
       "      <td>ACTIVE</td>\n",
       "      <td>HEADOFFICE</td>\n",
       "    </tr>\n",
       "    <tr>\n",
       "      <th>7</th>\n",
       "      <td>1318</td>\n",
       "      <td>12/31/2013 0:00</td>\n",
       "      <td>1/3/1954</td>\n",
       "      <td>8/28/1989</td>\n",
       "      <td>1/1/1900</td>\n",
       "      <td>59</td>\n",
       "      <td>24</td>\n",
       "      <td>Vancouver</td>\n",
       "      <td>Executive</td>\n",
       "      <td>CEO</td>\n",
       "      <td>35</td>\n",
       "      <td>M</td>\n",
       "      <td>Male</td>\n",
       "      <td>Not Applicable</td>\n",
       "      <td>Not Applicable</td>\n",
       "      <td>2013</td>\n",
       "      <td>ACTIVE</td>\n",
       "      <td>HEADOFFICE</td>\n",
       "    </tr>\n",
       "    <tr>\n",
       "      <th>8</th>\n",
       "      <td>1318</td>\n",
       "      <td>12/31/2014 0:00</td>\n",
       "      <td>1/3/1954</td>\n",
       "      <td>8/28/1989</td>\n",
       "      <td>1/1/1900</td>\n",
       "      <td>60</td>\n",
       "      <td>25</td>\n",
       "      <td>Vancouver</td>\n",
       "      <td>Executive</td>\n",
       "      <td>CEO</td>\n",
       "      <td>35</td>\n",
       "      <td>M</td>\n",
       "      <td>Male</td>\n",
       "      <td>Not Applicable</td>\n",
       "      <td>Not Applicable</td>\n",
       "      <td>2014</td>\n",
       "      <td>ACTIVE</td>\n",
       "      <td>HEADOFFICE</td>\n",
       "    </tr>\n",
       "    <tr>\n",
       "      <th>9</th>\n",
       "      <td>1318</td>\n",
       "      <td>12/31/2015 0:00</td>\n",
       "      <td>1/3/1954</td>\n",
       "      <td>8/28/1989</td>\n",
       "      <td>1/1/1900</td>\n",
       "      <td>61</td>\n",
       "      <td>26</td>\n",
       "      <td>Vancouver</td>\n",
       "      <td>Executive</td>\n",
       "      <td>CEO</td>\n",
       "      <td>35</td>\n",
       "      <td>M</td>\n",
       "      <td>Male</td>\n",
       "      <td>Not Applicable</td>\n",
       "      <td>Not Applicable</td>\n",
       "      <td>2015</td>\n",
       "      <td>ACTIVE</td>\n",
       "      <td>HEADOFFICE</td>\n",
       "    </tr>\n",
       "  </tbody>\n",
       "</table>\n",
       "</div>"
      ],
      "text/plain": [
       "   EmployeeID   recorddate_key birthdate_key orighiredate_key  \\\n",
       "0        1318  12/31/2006 0:00      1/3/1954        8/28/1989   \n",
       "1        1318  12/31/2007 0:00      1/3/1954        8/28/1989   \n",
       "2        1318  12/31/2008 0:00      1/3/1954        8/28/1989   \n",
       "3        1318  12/31/2009 0:00      1/3/1954        8/28/1989   \n",
       "4        1318  12/31/2010 0:00      1/3/1954        8/28/1989   \n",
       "5        1318  12/31/2011 0:00      1/3/1954        8/28/1989   \n",
       "6        1318  12/31/2012 0:00      1/3/1954        8/28/1989   \n",
       "7        1318  12/31/2013 0:00      1/3/1954        8/28/1989   \n",
       "8        1318  12/31/2014 0:00      1/3/1954        8/28/1989   \n",
       "9        1318  12/31/2015 0:00      1/3/1954        8/28/1989   \n",
       "\n",
       "  terminationdate_key  age  length_of_service  city_name department_name  \\\n",
       "0            1/1/1900   52                 17  Vancouver       Executive   \n",
       "1            1/1/1900   53                 18  Vancouver       Executive   \n",
       "2            1/1/1900   54                 19  Vancouver       Executive   \n",
       "3            1/1/1900   55                 20  Vancouver       Executive   \n",
       "4            1/1/1900   56                 21  Vancouver       Executive   \n",
       "5            1/1/1900   57                 22  Vancouver       Executive   \n",
       "6            1/1/1900   58                 23  Vancouver       Executive   \n",
       "7            1/1/1900   59                 24  Vancouver       Executive   \n",
       "8            1/1/1900   60                 25  Vancouver       Executive   \n",
       "9            1/1/1900   61                 26  Vancouver       Executive   \n",
       "\n",
       "  job_title  store_name gender_short gender_full termreason_desc  \\\n",
       "0       CEO          35            M        Male  Not Applicable   \n",
       "1       CEO          35            M        Male  Not Applicable   \n",
       "2       CEO          35            M        Male  Not Applicable   \n",
       "3       CEO          35            M        Male  Not Applicable   \n",
       "4       CEO          35            M        Male  Not Applicable   \n",
       "5       CEO          35            M        Male  Not Applicable   \n",
       "6       CEO          35            M        Male  Not Applicable   \n",
       "7       CEO          35            M        Male  Not Applicable   \n",
       "8       CEO          35            M        Male  Not Applicable   \n",
       "9       CEO          35            M        Male  Not Applicable   \n",
       "\n",
       "    termtype_desc  STATUS_YEAR  STATUS BUSINESS_UNIT  \n",
       "0  Not Applicable         2006  ACTIVE    HEADOFFICE  \n",
       "1  Not Applicable         2007  ACTIVE    HEADOFFICE  \n",
       "2  Not Applicable         2008  ACTIVE    HEADOFFICE  \n",
       "3  Not Applicable         2009  ACTIVE    HEADOFFICE  \n",
       "4  Not Applicable         2010  ACTIVE    HEADOFFICE  \n",
       "5  Not Applicable         2011  ACTIVE    HEADOFFICE  \n",
       "6  Not Applicable         2012  ACTIVE    HEADOFFICE  \n",
       "7  Not Applicable         2013  ACTIVE    HEADOFFICE  \n",
       "8  Not Applicable         2014  ACTIVE    HEADOFFICE  \n",
       "9  Not Applicable         2015  ACTIVE    HEADOFFICE  "
      ]
     },
     "execution_count": 7,
     "metadata": {},
     "output_type": "execute_result"
    }
   ],
   "source": [
    "# Checks records for Employee #1318\n",
    "dataset.loc[dataset['EmployeeID'] == 1318]"
   ]
  },
  {
   "cell_type": "markdown",
   "metadata": {},
   "source": [
    "## Data Processing"
   ]
  },
  {
   "cell_type": "code",
   "execution_count": 8,
   "metadata": {},
   "outputs": [
    {
     "data": {
      "text/html": [
       "<div>\n",
       "<style scoped>\n",
       "    .dataframe tbody tr th:only-of-type {\n",
       "        vertical-align: middle;\n",
       "    }\n",
       "\n",
       "    .dataframe tbody tr th {\n",
       "        vertical-align: top;\n",
       "    }\n",
       "\n",
       "    .dataframe thead th {\n",
       "        text-align: right;\n",
       "    }\n",
       "</style>\n",
       "<table border=\"1\" class=\"dataframe\">\n",
       "  <thead>\n",
       "    <tr style=\"text-align: right;\">\n",
       "      <th></th>\n",
       "      <th>EmployeeID</th>\n",
       "    </tr>\n",
       "  </thead>\n",
       "  <tbody>\n",
       "  </tbody>\n",
       "</table>\n",
       "</div>"
      ],
      "text/plain": [
       "Empty DataFrame\n",
       "Columns: [EmployeeID]\n",
       "Index: []"
      ]
     },
     "execution_count": 8,
     "metadata": {},
     "output_type": "execute_result"
    }
   ],
   "source": [
    "# Lists if any changes on ['city_name','department_name','job_title','BUSINESS_UNIT'] for all duplicated EmployeeIDs\n",
    "newDataset = dataset[['EmployeeID', 'city_name', 'department_name', 'job_title', 'BUSINESS_UNIT']]\n",
    "newDataset = newDataset[newDataset.duplicated('EmployeeID', keep=False)]\n",
    "duplicateds = newDataset[newDataset.duplicated(keep='last')]\n",
    "\n",
    "merged = pd.merge(newDataset,duplicateds, how='outer', indicator=True)\n",
    "merged.loc[merged._merge == 'left_only', ['EmployeeID']]"
   ]
  },
  {
   "cell_type": "code",
   "execution_count": 9,
   "metadata": {},
   "outputs": [
    {
     "data": {
      "image/png": "[encoded data removed]",
      "text/plain": [
       "<Figure size 432x288 with 1 Axes>"
      ]
     },
     "metadata": {
      "needs_background": "light"
     },
     "output_type": "display_data"
    },
    {
     "name": "stdout",
     "output_type": "stream",
     "text": [
      "Terminated:  1485\n",
      "Active:  48168\n"
     ]
    }
   ],
   "source": [
    "# Checks Active and Terminated columns because we keep last ones\n",
    "statusTerminatedCount = len(dataset[dataset.STATUS == \"TERMINATED\"])\n",
    "statusActiveCount = len(dataset[dataset.STATUS == \"ACTIVE\"])\n",
    "\n",
    "plt.bar([\"Terminated\", \"Active\"],[statusTerminatedCount, statusActiveCount])\n",
    "plt.xlabel(\"Employees\")\n",
    "plt.ylabel(\"Count\")\n",
    "plt.title(\"Working Status\")\n",
    "plt.show()\n",
    "print(\"Terminated: \", statusTerminatedCount)\n",
    "print(\"Active: \", statusActiveCount)"
   ]
  },
  {
   "cell_type": "code",
   "execution_count": 10,
   "metadata": {},
   "outputs": [],
   "source": [
    "\n",
    "# Makes cities dummy with their population\n",
    "city_pop_2020 = {'Vancouver':2313328,\n",
    "                 'Victoria':289625,\n",
    "                 'Nanaimo':84905,\n",
    "                 'New Westminster':58549,\n",
    "                 'Kelowna':125109,\n",
    "                 'Burnaby':202799,\n",
    "                 'Kamloops':68714,\n",
    "                 'Prince George':65558,\n",
    "                 'Cranbrook':18610,\n",
    "                 'Surrey':394976,\n",
    "                 'Richmond':182000,\n",
    "                 'Terrace':19443,\n",
    "                 'Chilliwack':77000,\n",
    "                 'Trail':9707,\n",
    "                 'Langley':23606,\n",
    "                 'Vernon':47274,\n",
    "                 'Squamish':19512,\n",
    "                 'Quesnel':13799,\n",
    "                 'Abbotsford':151683,\n",
    "                 'North Vancouver':48000,\n",
    "                 'Fort St John':17402,\n",
    "                 'Williams Lake':14168,\n",
    "                 'West Vancouver':42694,\n",
    "                 'Port Coquitlam':114565,\n",
    "                 'Aldergrove':12363,\n",
    "                 'Fort Nelson':3561,\n",
    "                 'Nelson':9813,\n",
    "                 'New Westminister':58549,\n",
    "                 'Grand Forks':4049,\n",
    "                 'White Rock':66450,\n",
    "                 'Haney':82256,\n",
    "                 'Princeton':2828,\n",
    "                 'Dawson Creek':10802,\n",
    "                 'Bella Bella':1019,\n",
    "                 'Ocean Falls':129,\n",
    "                 'Pitt Meadows':174410,\n",
    "                 'Cortes Island':1042,\n",
    "                 'Valemount':1021,\n",
    "                 'Dease Lake':335,\n",
    "                 'Blue River':157}\n",
    "#Make a copy of city names\n",
    "dataset['Pop'] = dataset['city_name']\n",
    "\n",
    "# Map from city name to population\n",
    "dataset['Pop'] = dataset.Pop.map(city_pop_2020)\n",
    "\n",
    "# Make a new column for population category\n",
    "dataset['Pop_category'] = dataset.Pop\n",
    "\n",
    "\"\"\"\n",
    "Categorise according to population size\n",
    ">= 100,000 is City\n",
    "10,000 to 99,999 is Rural\n",
    "< 10,000 is Remote\n",
    "Thanks for @dredlaw for this classification example\n",
    "Data is taken from https://worldpopulationreview.com/countries/cities/canada\n",
    "\"\"\"\n",
    "city_ix = (dataset['Pop'] >= 100000)\n",
    "rural_ix = ((dataset['Pop'] < 100000) & (dataset['Pop'] >= 10000))\n",
    "remote_ix = (dataset['Pop'] < 10000)\n",
    "dataset.loc[city_ix, 'Pop_category'] = 'City'\n",
    "dataset.loc[rural_ix, 'Pop_category'] = 'Rural'\n",
    "dataset.loc[remote_ix, 'Pop_category'] = 'Remote'\n",
    "\n",
    "dataset['Pop_category'] = dataset['Pop_category'].map({'City' : 0, 'Rural' : 1, 'Remote' : 2})"
   ]
  },
  {
   "cell_type": "code",
   "execution_count": 11,
   "metadata": {},
   "outputs": [],
   "source": [
    "# Clusters job title\n",
    "board = ['VP Stores', 'Director, Recruitment', 'VP Human Resources', 'VP Finance',\n",
    "         'Director, Accounts Receivable', 'Director, Accounting',\n",
    "         'Director, Employee Records', 'Director, Accounts Payable',\n",
    "         'Director, HR Technology', 'Director, Investments',\n",
    "         'Director, Labor Relations', 'Director, Audit', 'Director, Training',\n",
    "         'Director, Compensation']\n",
    "\n",
    "executive = ['Exec Assistant, Finance', 'Exec Assistant, Legal Counsel',\n",
    "             'CHief Information Officer', 'CEO', 'Exec Assistant, Human Resources',\n",
    "             'Exec Assistant, VP Stores']\n",
    "\n",
    "manager = ['Customer Service Manager', 'Processed Foods Manager', 'Meats Manager',\n",
    "           'Bakery Manager', 'Produce Manager', 'Store Manager', 'Trainer', 'Dairy Manager']\n",
    "\n",
    "\n",
    "employee = ['Meat Cutter', 'Dairy Person', 'Produce Clerk', 'Baker', 'Cashier',\n",
    "            'Shelf Stocker', 'Recruiter', 'HRIS Analyst', 'Accounting Clerk',\n",
    "            'Benefits Admin', 'Labor Relations Analyst', 'Accounts Receiveable Clerk',\n",
    "            'Accounts Payable Clerk', 'Auditor', 'Compensation Analyst',\n",
    "            'Investment Analyst', 'Systems Analyst', 'Corporate Lawyer', 'Legal Counsel']\n",
    "\n",
    "def changeTitle(row):\n",
    "    if row in board:\n",
    "        return 'board'\n",
    "    elif row in executive:\n",
    "        return 'executive'\n",
    "    elif row in manager:\n",
    "        return 'manager'\n",
    "    else:\n",
    "        return 'employee'\n",
    "    \n",
    "dataset['job_title'] = dataset['job_title'].apply(changeTitle)"
   ]
  },
  {
   "cell_type": "code",
   "execution_count": 12,
   "metadata": {},
   "outputs": [],
   "source": [
    "# Makes all values useful for modelling\n",
    "dataset = pd.get_dummies(dataset,columns=['job_title'])\n",
    "dataset['gender'] = dataset['gender_short'].replace({'F':1, 'M':0})\n",
    "dataset['status'] = dataset['STATUS'].replace({'ACTIVE':1, 'TERMINATED':0})\n",
    "dataset['BUSINESS_UNIT'] = dataset['BUSINESS_UNIT'].replace({'STORES':1, 'HEADOFFICE':0})"
   ]
  },
  {
   "cell_type": "code",
   "execution_count": 13,
   "metadata": {},
   "outputs": [],
   "source": [
    "# Makes all employees unique because there is no change on categoric columns\n",
    "# Keeps last records\n",
    "nonSequentialData = dataset.sort_values(['EmployeeID', 'length_of_service'], \n",
    "                                        ascending=[True, True]).drop_duplicates('EmployeeID', \n",
    "                                                                                keep='last').reset_index(drop=True)"
   ]
  },
  {
   "cell_type": "code",
   "execution_count": 14,
   "metadata": {},
   "outputs": [
    {
     "data": {
      "image/png": "[encoded data removed]",
      "text/plain": [
       "<Figure size 432x288 with 1 Axes>"
      ]
     },
     "metadata": {
      "needs_background": "light"
     },
     "output_type": "display_data"
    },
    {
     "name": "stdout",
     "output_type": "stream",
     "text": [
      "Terminated:  1485\n",
      "Active:  4799\n"
     ]
    }
   ],
   "source": [
    "# Checks Active and Terminated columns because we keep last ones\n",
    "statusTerminatedCount = len(nonSequentialData[nonSequentialData.STATUS == \"TERMINATED\"])\n",
    "statusActiveCount = len(nonSequentialData[nonSequentialData.STATUS == \"ACTIVE\"])\n",
    "\n",
    "plt.bar([\"Terminated\", \"Active\"],[statusTerminatedCount, statusActiveCount])\n",
    "plt.xlabel(\"Employees\")\n",
    "plt.ylabel(\"Count\")\n",
    "plt.title(\"Working Status\")\n",
    "plt.show()\n",
    "print(\"Terminated: \", statusTerminatedCount)\n",
    "print(\"Active: \", statusActiveCount)"
   ]
  },
  {
   "cell_type": "code",
   "execution_count": 15,
   "metadata": {},
   "outputs": [
    {
     "data": {
      "text/plain": [
       "<AxesSubplot:>"
      ]
     },
     "execution_count": 15,
     "metadata": {},
     "output_type": "execute_result"
    },
    {
     "data": {
      "image/png": "[encoded data removed]",
      "text/plain": [
       "<Figure size 432x288 with 2 Axes>"
      ]
     },
     "metadata": {
      "needs_background": "light"
     },
     "output_type": "display_data"
    }
   ],
   "source": [
    "# Correlation Map\n",
    "sns.heatmap(nonSequentialData.corr())"
   ]
  },
  {
   "cell_type": "code",
   "execution_count": 16,
   "metadata": {},
   "outputs": [
    {
     "data": {
      "text/plain": [
       "status                 1.000000\n",
       "STATUS_YEAR            0.782497\n",
       "age                    0.264318\n",
       "EmployeeID             0.178260\n",
       "job_title_employee     0.177928\n",
       "job_title_manager      0.174992\n",
       "BUSINESS_UNIT          0.167382\n",
       "length_of_service      0.121367\n",
       "Pop_category           0.109118\n",
       "gender                 0.105256\n",
       "store_name             0.061885\n",
       "job_title_board        0.053165\n",
       "Pop                    0.034909\n",
       "job_title_executive    0.017197\n",
       "Name: status, dtype: float64"
      ]
     },
     "execution_count": 16,
     "metadata": {},
     "output_type": "execute_result"
    }
   ],
   "source": [
    "# Sorted absolute values of correalation matrix\n",
    "nonSequentialData.corr().abs()['status'].sort_values(ascending=False)"
   ]
  },
  {
   "cell_type": "code",
   "execution_count": 17,
   "metadata": {},
   "outputs": [],
   "source": [
    "# Dropping operation\n",
    "nonSequentialData = nonSequentialData.drop(\n",
    "    [\n",
    "     'gender_short', 'gender_full', 'STATUS',\n",
    "     'city_name', 'EmployeeID', 'recorddate_key',\n",
    "     'birthdate_key', 'orighiredate_key', 'terminationdate_key',\n",
    "     'department_name','termreason_desc', 'termtype_desc'\n",
    "     ], \n",
    "     axis=1\n",
    ")"
   ]
  },
  {
   "cell_type": "code",
   "execution_count": 18,
   "metadata": {},
   "outputs": [],
   "source": [
    "# Keeps EmployeeID and recorddate_key\n",
    "sequentialData = dataset.drop(\n",
    "    [\n",
    "     'gender_short', 'gender_full', 'STATUS',\n",
    "     'city_name',\n",
    "     'birthdate_key', 'orighiredate_key', 'terminationdate_key',\n",
    "     'department_name','termreason_desc', 'termtype_desc'\n",
    "     ], \n",
    "     axis=1\n",
    ")"
   ]
  },
  {
   "cell_type": "markdown",
   "metadata": {},
   "source": [
    "## Modelling & Evaluation"
   ]
  },
  {
   "cell_type": "code",
   "execution_count": 19,
   "metadata": {},
   "outputs": [],
   "source": [
    "# Seperates labeled value\n",
    "label = nonSequentialData.status\n",
    "nonSequentialData = nonSequentialData.drop('status', axis=1)"
   ]
  },
  {
   "cell_type": "code",
   "execution_count": 21,
   "metadata": {},
   "outputs": [],
   "source": [
    "from sklearn.model_selection import train_test_split\n",
    "x_train, x_test, y_train, y_test = train_test_split(nonSequentialData, label, test_size=0.3,\n",
    "                                                    random_state=10)"
   ]
  },
  {
   "cell_type": "code",
   "execution_count": 22,
   "metadata": {},
   "outputs": [],
   "source": [
    "# Make prediciton by a given model\n",
    "def prediction(model, is_svc=False):\n",
    "  model.fit(x_train, y_train)\n",
    "  y_pred = model.predict(x_test)\n",
    "  score = round(accuracy_score(y_test, y_pred), 3)\n",
    "\n",
    "  cm1 = cm(y_test, y_pred)\n",
    "\n",
    "  sns.heatmap(cm1, annot=True, fmt=\".0f\")\n",
    "  plt.xlabel('Predicted Values')\n",
    "  plt.ylabel('Actual Values')\n",
    "  plt.title('Accuracy Score: {0}'.format(score), size = 15)\n",
    "  plt.show()\n",
    "\n",
    "  y_proba = None\n",
    "\n",
    "  if not is_svc:\n",
    "    y_proba = model.predict_proba(x_test)\n",
    "  else:\n",
    "    model = CalibratedClassifierCV(model) \n",
    "    model.fit(x_train, y_train)\n",
    "    y_proba = model.predict_proba(x_test)\n",
    "\n",
    "  return y_pred, y_proba"
   ]
  },
  {
   "cell_type": "markdown",
   "metadata": {},
   "source": [
    "#### Decision Tree"
   ]
  },
  {
   "cell_type": "code",
   "execution_count": 23,
   "metadata": {},
   "outputs": [
    {
     "data": {
      "image/png": "[encoded data removed]",
      "text/plain": [
       "<Figure size 432x288 with 2 Axes>"
      ]
     },
     "metadata": {
      "needs_background": "light"
     },
     "output_type": "display_data"
    }
   ],
   "source": [
    "model_dt = tree.DecisionTreeClassifier()\n",
    "y_pred_dt, y_proba_dt = prediction(model_dt)"
   ]
  },
  {
   "cell_type": "markdown",
   "metadata": {},
   "source": [
    "#### SVC"
   ]
  },
  {
   "cell_type": "code",
   "execution_count": 26,
   "metadata": {},
   "outputs": [
    {
     "data": {
      "image/png": "[encoded data removed]",
      "text/plain": [
       "<Figure size 432x288 with 2 Axes>"
      ]
     },
     "metadata": {
      "needs_background": "light"
     },
     "output_type": "display_data"
    }
   ],
   "source": [
    "from sklearn.calibration import CalibratedClassifierCV\n",
    "model_svc = SVC(C=10, gamma=0.01, kernel='rbf', random_state=10)\n",
    "y_pred_svc, y_proba_svc = prediction(model_svc, True)"
   ]
  },
  {
   "cell_type": "markdown",
   "metadata": {},
   "source": [
    "#### Evaluation"
   ]
  },
  {
   "cell_type": "code",
   "execution_count": 25,
   "metadata": {},
   "outputs": [],
   "source": [
    "def display_eval_metrics(precision_1, recall_1, f1_1, precision_0, recall_0, f1_0):\n",
    "  print()\n",
    "  for var in display_eval_metrics.__code__.co_varnames:\n",
    "    if var == \"precision_0\":\n",
    "      print()\n",
    "    if var == \"var\":\n",
    "      continue\n",
    "    print(var + \": \" + str(vars()[var]))\n",
    "  print(\"------------------------------------------------------------------------\\n\")\n",
    "\n",
    "\n",
    "def get_eval_metrics(cm):\n",
    "  tp = cm[1][1]\n",
    "  tn = cm[0][0]\n",
    "  fp = cm[0][1]\n",
    "  fn = cm[1][0]\n",
    "\n",
    "  precision_1 = tp / (tp + fp)\n",
    "  recall_1 = tp / (tp + fn)\n",
    "  f1_1 = (2 * precision_1 * recall_1) / (precision_1 + recall_1)\n",
    "\n",
    "  precision_0 = tn / (tn + fn)\n",
    "  recall_0 = tn / (tn + fp)\n",
    "  f1_0 = (2 * precision_0 * recall_0) / (precision_0 + recall_0)\n",
    "\n",
    "  return precision_1, recall_1, f1_1, precision_0, recall_0, f1_0\n",
    "\n",
    "\n",
    "def draw_roc_curve(predict_obj_list):\n",
    "\n",
    "  for predict_obj in predict_obj_list:\n",
    "    model_name = predict_obj[0]\n",
    "    model_pred = predict_obj[1]\n",
    "\n",
    "    fpr, tpr, thresholds = roc_curve(y_test.round(0).values.tolist(), model_pred.round(2).tolist(), drop_intermediate=False)\n",
    "    auc_ = auc(fpr, tpr)\n",
    "    plt.plot(fpr, tpr, label = model_name + ' ROC curve (AUC = %0.2f)' % auc_);\n",
    "\n",
    "  plt.legend(loc=\"lower right\")\n",
    "  plt.xlabel('False Positive Rate')\n",
    "  plt.ylabel('True Positive Rate');"
   ]
  },
  {
   "cell_type": "code",
   "execution_count": 28,
   "metadata": {},
   "outputs": [
    {
     "data": {
      "image/png": "[encoded data removed]",
      "text/plain": [
       "<Figure size 432x288 with 1 Axes>"
      ]
     },
     "metadata": {
      "needs_background": "light"
     },
     "output_type": "display_data"
    }
   ],
   "source": [
    "from sklearn.metrics import roc_curve, auc\n",
    "draw_roc_curve([\n",
    "     (\"DT\", y_pred_dt), \n",
    "     (\"SCV\", y_pred_svc)\n",
    "])"
   ]
  },
  {
   "attachments": {
    "image.png": {
     "image/png": "[encoded data removed]"
    }
   },
   "cell_type": "markdown",
   "metadata": {},
   "source": [
    "__Entropy__: Entropy is the measurement of disorder or impurities in the information processed in machine learning. It determines how a decision tree chooses to split data.\n",
    "\n",
    "__Mathematical Formula for Entropy__:\n",
    "Consider a data set having a total number of N classes, then the entropy (E) can be determined with the formula below:\n",
    "\n",
    "![image.png](attachment:image.png)\n",
    "\n",
    "Where;\n",
    "\n",
    "Pi = Probability of randomly selecting an example in class I;\n",
    "\n",
    "Entropy always lies between 0 and 1, however depending on the number of classes in the dataset, it can be greater than 1. But the high value of\n",
    "\n",
    "Let's understand it with an example where we have a dataset having three colors of fruits as red, green, and yellow. Suppose we have 2 red, 2 green, and 4 yellow observations throughout the dataset. Then as per the above equation:\n",
    "\n",
    "E=−(prlog2pr+pplog2pp+pylog2py)\n",
    "\n",
    "Where;\n",
    "\n",
    "Pr = Probability of choosing red fruits;\n",
    "\n",
    "Pg = Probability of choosing green fruits and;\n",
    "\n",
    "Py = Probability of choosing yellow fruits."
   ]
  },
  {
   "attachments": {
    "image.png": {
     "image/png": "[encoded data removed]"
    }
   },
   "cell_type": "markdown",
   "metadata": {},
   "source": [
    "__Gini index__: gini index is a measure of statistical dispersion intended to represent the income inequality or the wealth inequality within a nation or a social group.\n",
    "\n",
    "![image.png](attachment:image.png)\n",
    "\n",
    "Xk is the cumulated proportion of the population variable, for k = 0,...,n, with X0 = 0, Xn = 1.\n",
    "Yk is the cumulated proportion of the income variable, for k = 0,...,n, with Y0 = 0, Yn = 1.\n",
    "Yk should be indexed in non-decreasing order (Yk > Yk – 1)\n",
    "\n",
    "__Applications__:\n",
    "Gini coefficient is widely used in fields as diverse as sociology, economics, health science, ecology, engineering and agriculture.\n",
    "\n",
    "__Limitations__:\n",
    "The Gini coefficient is a relative measure. It is possible for the Gini coefficient of a developing country to rise (due to increasing inequality of income) while the number of people in absolute poverty decreases. This is because the Gini coefficient measures relative, not absolute, wealth. Changing income inequality, measured by Gini coefficients, can be due to structural changes in a society such as growing population (baby booms, aging populations, increased divorce rates, extended family households splitting into nuclear families, emigration, immigration) and income mobility"
   ]
  }
 ],
 "metadata": {
  "kernelspec": {
   "display_name": "Python 3",
   "language": "python",
   "name": "python3"
  },
  "language_info": {
   "codemirror_mode": {
    "name": "ipython",
    "version": 3
   },
   "file_extension": ".py",
   "mimetype": "text/x-python",
   "name": "python",
   "nbconvert_exporter": "python",
   "pygments_lexer": "ipython3",
   "version": "3.8.5"
  }
 },
 "nbformat": 4,
 "nbformat_minor": 4
}
